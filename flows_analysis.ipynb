{
 "metadata": {
  "language_info": {
   "codemirror_mode": {
    "name": "ipython",
    "version": 3
   },
   "file_extension": ".py",
   "mimetype": "text/x-python",
   "name": "python",
   "nbconvert_exporter": "python",
   "pygments_lexer": "ipython3",
   "version": "3.8.5"
  },
  "orig_nbformat": 2,
  "kernelspec": {
   "name": "python3",
   "display_name": "Python 3.8.5 64-bit ('base': conda)"
  },
  "interpreter": {
   "hash": "9240d5ce0b95dd5bdbe76a5a8ace01964f10940fba4ba282bda1baaf4a140227"
  }
 },
 "nbformat": 4,
 "nbformat_minor": 2,
 "cells": [
  {
   "source": [
    "# Cleaning 60min dataset (Netflix, Prime, YouTube and Twitch)"
   ],
   "cell_type": "markdown",
   "metadata": {}
  },
  {
   "cell_type": "code",
   "execution_count": 1,
   "metadata": {},
   "outputs": [],
   "source": [
    "import pandas as pd\n",
    "\n",
    "df = pd.read_csv('test1_60min.csv')\n",
    "df.drop([\"Unnamed: 0\", \"src_oui\", \"dst_oui\", \"id\", \"expiration_id\",\"client_fingerprint\", \"server_fingerprint\", \"src_mac\", \"dst_mac\", \"vlan_id\", \"tunnel_id\", \"expiration_id\",\"client_fingerprint\", \"server_fingerprint\", \"user_agent\", \"bidirectional_first_seen_ms\", \"bidirectional_last_seen_ms\", \"bidirectional_duration_ms\", \"dst2src_packets\", \"dst2src_packets\", \"dst2src_first_seen_ms\", \"dst2src_last_seen_ms\", \"dst2src_duration_ms\", \"src2dst_first_seen_ms\", \"src2dst_last_seen_ms\", \"src2dst_duration_ms\", \"src2dst_packets\", \"src2dst_bytes\", \"dst2src_bytes\", \"bidirectional_packets\"], axis=1, inplace=True)\n",
    "df.sort_values([\"src_ip\"], inplace=True)\n",
    "df.reset_index(drop=True, inplace=True)"
   ]
  },
  {
   "cell_type": "code",
   "execution_count": 2,
   "metadata": {},
   "outputs": [],
   "source": [
    "# Take into account only the analyzed device ip as source ip (it will be necessary to apply the same filter also in the code to exclude flows that have different source ip)\n",
    "filt_df = df[(df['src_ip']==\"10.42.0.130\")]"
   ]
  },
  {
   "cell_type": "code",
   "execution_count": 3,
   "metadata": {},
   "outputs": [
    {
     "output_type": "execute_result",
     "data": {
      "text/plain": [
       "array(['DNS', 'DNS.Amazon', 'TLS.AmazonVideo', 'TLS.Amazon',\n",
       "       'DNS.AmazonVideo', 'TLS.GoogleServices', 'TLS', 'HTTP',\n",
       "       'HTTP.Amazon', 'TLS.Google', 'DNS.Google', 'DNS.YouTube',\n",
       "       'QUIC.Google', 'TLS.YouTube', 'HTTP.Google', 'DNS.NetFlix',\n",
       "       'DNS.GoogleServices', 'HTTP.Cloudflare', 'DNS.Twitch',\n",
       "       'TLS.Twitch', 'QUIC.GoogleServices', 'QUIC.YouTube', 'MDNS',\n",
       "       'ICMP.Google', 'DNS.Microsoft', 'TLS.NetFlix', 'DHCP'],\n",
       "      dtype=object)"
      ]
     },
     "metadata": {},
     "execution_count": 3
    }
   ],
   "source": [
    "filt_df['application_name'].unique()"
   ]
  },
  {
   "cell_type": "code",
   "execution_count": 4,
   "metadata": {},
   "outputs": [
    {
     "output_type": "stream",
     "name": "stdout",
     "text": [
      "Before: 834 After: 814\n"
     ]
    },
    {
     "output_type": "execute_result",
     "data": {
      "text/plain": [
       "        src_ip  src_port     dst_ip  dst_port  protocol  ip_version  \\\n",
       "4  10.42.0.130     56195  10.42.0.1        53        17           4   \n",
       "5  10.42.0.130     40003  10.42.0.1        53        17           4   \n",
       "6  10.42.0.130     46309  10.42.0.1        53        17           4   \n",
       "7  10.42.0.130     58422  10.42.0.1        53        17           4   \n",
       "8  10.42.0.130     44992  10.42.0.1        53        17           4   \n",
       "\n",
       "   bidirectional_bytes application_name application_category_name  \\\n",
       "4                  313              DNS         ConnectivityCheck   \n",
       "5                  222              DNS                   Network   \n",
       "6                  245       DNS.Amazon                       Web   \n",
       "7                  197       DNS.Amazon                       Web   \n",
       "8                  222              DNS                   Network   \n",
       "\n",
       "   application_is_guessed                     requested_server_name  \\\n",
       "4                       0                  detectportal.firefox.com   \n",
       "5                       0  endpoint.prod.eu-west-1.forester.a2z.com   \n",
       "6                       0                          unagi.amazon.com   \n",
       "7                       0                          unagi.amazon.com   \n",
       "8                       0  endpoint.prod.eu-west-1.forester.a2z.com   \n",
       "\n",
       "  content_type  \n",
       "4          NaN  \n",
       "5          NaN  \n",
       "6          NaN  \n",
       "7          NaN  \n",
       "8          NaN  "
      ],
      "text/html": "<div>\n<style scoped>\n    .dataframe tbody tr th:only-of-type {\n        vertical-align: middle;\n    }\n\n    .dataframe tbody tr th {\n        vertical-align: top;\n    }\n\n    .dataframe thead th {\n        text-align: right;\n    }\n</style>\n<table border=\"1\" class=\"dataframe\">\n  <thead>\n    <tr style=\"text-align: right;\">\n      <th></th>\n      <th>src_ip</th>\n      <th>src_port</th>\n      <th>dst_ip</th>\n      <th>dst_port</th>\n      <th>protocol</th>\n      <th>ip_version</th>\n      <th>bidirectional_bytes</th>\n      <th>application_name</th>\n      <th>application_category_name</th>\n      <th>application_is_guessed</th>\n      <th>requested_server_name</th>\n      <th>content_type</th>\n    </tr>\n  </thead>\n  <tbody>\n    <tr>\n      <th>4</th>\n      <td>10.42.0.130</td>\n      <td>56195</td>\n      <td>10.42.0.1</td>\n      <td>53</td>\n      <td>17</td>\n      <td>4</td>\n      <td>313</td>\n      <td>DNS</td>\n      <td>ConnectivityCheck</td>\n      <td>0</td>\n      <td>detectportal.firefox.com</td>\n      <td>NaN</td>\n    </tr>\n    <tr>\n      <th>5</th>\n      <td>10.42.0.130</td>\n      <td>40003</td>\n      <td>10.42.0.1</td>\n      <td>53</td>\n      <td>17</td>\n      <td>4</td>\n      <td>222</td>\n      <td>DNS</td>\n      <td>Network</td>\n      <td>0</td>\n      <td>endpoint.prod.eu-west-1.forester.a2z.com</td>\n      <td>NaN</td>\n    </tr>\n    <tr>\n      <th>6</th>\n      <td>10.42.0.130</td>\n      <td>46309</td>\n      <td>10.42.0.1</td>\n      <td>53</td>\n      <td>17</td>\n      <td>4</td>\n      <td>245</td>\n      <td>DNS.Amazon</td>\n      <td>Web</td>\n      <td>0</td>\n      <td>unagi.amazon.com</td>\n      <td>NaN</td>\n    </tr>\n    <tr>\n      <th>7</th>\n      <td>10.42.0.130</td>\n      <td>58422</td>\n      <td>10.42.0.1</td>\n      <td>53</td>\n      <td>17</td>\n      <td>4</td>\n      <td>197</td>\n      <td>DNS.Amazon</td>\n      <td>Web</td>\n      <td>0</td>\n      <td>unagi.amazon.com</td>\n      <td>NaN</td>\n    </tr>\n    <tr>\n      <th>8</th>\n      <td>10.42.0.130</td>\n      <td>44992</td>\n      <td>10.42.0.1</td>\n      <td>53</td>\n      <td>17</td>\n      <td>4</td>\n      <td>222</td>\n      <td>DNS</td>\n      <td>Network</td>\n      <td>0</td>\n      <td>endpoint.prod.eu-west-1.forester.a2z.com</td>\n      <td>NaN</td>\n    </tr>\n  </tbody>\n</table>\n</div>"
     },
     "metadata": {},
     "execution_count": 4
    }
   ],
   "source": [
    "print(\"Before: {} After: {}\".format(len(df), len(filt_df)))\n",
    "filt_df.head()"
   ]
  },
  {
   "source": [
    "## Saving the list of application name in a JSON file"
   ],
   "cell_type": "markdown",
   "metadata": {}
  },
  {
   "cell_type": "code",
   "execution_count": 6,
   "metadata": {},
   "outputs": [],
   "source": [
    "import json\n",
    "\n",
    "apps = filt_df.application_name.unique()\n",
    "\n",
    "with open('export_apps.json', 'w') as fd:\n",
    "    json.dump(list(apps), fd)"
   ]
  },
  {
   "cell_type": "code",
   "execution_count": 7,
   "metadata": {},
   "outputs": [
    {
     "output_type": "stream",
     "name": "stdout",
     "text": [
      "DNS\n"
     ]
    }
   ],
   "source": [
    "# Debug\n",
    "\n",
    "with open('export_apps.json', 'r') as fd:\n",
    "    x = json.load(fd)\n",
    "    \n",
    "print(x[0])"
   ]
  }
 ]
}