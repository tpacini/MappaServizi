{
 "metadata": {
  "language_info": {
   "codemirror_mode": {
    "name": "ipython",
    "version": 3
   },
   "file_extension": ".py",
   "mimetype": "text/x-python",
   "name": "python",
   "nbconvert_exporter": "python",
   "pygments_lexer": "ipython3",
   "version": "3.8.5"
  },
  "orig_nbformat": 2,
  "kernelspec": {
   "name": "python3",
   "display_name": "Python 3.8.5 64-bit"
  },
  "interpreter": {
   "hash": "916dbcbb3f70747c44a77c7bcd40155683ae19c65e1c03b4aa3499c5328201f1"
  }
 },
 "nbformat": 4,
 "nbformat_minor": 2,
 "cells": [
  {
   "source": [
    "# Cleaning 60min dataset (Netflix, Prime, YouTube and Twitch)\n",
    "\n",
    "10.42.0.1 pc-router, 10.42.0.130 pc-analyzed"
   ],
   "cell_type": "markdown",
   "metadata": {}
  },
  {
   "cell_type": "code",
   "execution_count": 1,
   "metadata": {},
   "outputs": [],
   "source": [
    "import pandas as pd \n",
    "\n",
    "df = pd.read_csv('test1_60min.csv')\n",
    "df.drop([\"Unnamed: 0\", \"src_oui\", \"dst_oui\", \"id\", \"expiration_id\",\"client_fingerprint\", \"server_fingerprint\", \"src_mac\", \"dst_mac\", \"vlan_id\", \"tunnel_id\", \"expiration_id\",\"client_fingerprint\", \"server_fingerprint\", \"user_agent\", \"bidirectional_first_seen_ms\", \"bidirectional_last_seen_ms\", \"bidirectional_duration_ms\", \"dst2src_packets\", \"dst2src_packets\", \"dst2src_first_seen_ms\", \"dst2src_last_seen_ms\", \"dst2src_duration_ms\", \"src2dst_first_seen_ms\", \"src2dst_last_seen_ms\", \"src2dst_duration_ms\", \"src2dst_packets\", \"src2dst_bytes\", \"dst2src_bytes\", \"bidirectional_packets\"], axis=1, inplace=True)\n",
    "df.sort_values([\"src_ip\"], inplace=True)\n",
    "df.reset_index(drop=True, inplace=True)"
   ]
  },
  {
   "source": [
    "## Create the data structure with the infos\n",
    "\n",
    "### Remove IPv6 addresses"
   ],
   "cell_type": "markdown",
   "metadata": {}
  },
  {
   "cell_type": "code",
   "execution_count": 13,
   "metadata": {},
   "outputs": [
    {
     "output_type": "execute_result",
     "data": {
      "text/plain": [
       "array(['10.42.0.1', '10.42.0.130', '34.252.28.38', '54.213.37.69'],\n",
       "      dtype=object)"
      ]
     },
     "metadata": {},
     "execution_count": 13
    }
   ],
   "source": [
    "# For now testing only IPv4 addresses\n",
    "# IPv6 used for MDNS\n",
    "df.src_ip.unique()"
   ]
  },
  {
   "cell_type": "code",
   "execution_count": 14,
   "metadata": {},
   "outputs": [
    {
     "output_type": "execute_result",
     "data": {
      "text/plain": [
       "array(['224.0.0.251', '10.42.0.1', '99.80.110.85', '52.46.155.15',\n",
       "       '108.128.36.17', '216.58.209.42', '52.18.92.59', '95.101.180.169',\n",
       "       '93.184.220.29', '52.84.221.236', '52.222.131.113', '52.84.223.77',\n",
       "       '3.224.160.91', '95.140.230.191', '8.238.124.252', '52.85.15.101',\n",
       "       '216.58.206.78', '142.250.184.110', '216.58.209.46',\n",
       "       '172.217.21.77', '142.250.180.66', '216.58.206.70',\n",
       "       '74.125.153.24', '142.250.180.129', '142.250.180.67',\n",
       "       '142.250.180.99', '216.58.205.67', '216.58.208.174',\n",
       "       '104.18.21.226', '52.222.128.123', '35.165.11.166',\n",
       "       '52.11.130.196', '142.250.180.142', '44.226.254.74',\n",
       "       '151.101.14.167', '54.192.125.217', '216.58.208.130',\n",
       "       '216.58.208.161', '74.125.99.56', '142.250.180.161',\n",
       "       '142.250.180.98', '142.250.184.102', '142.250.180.100',\n",
       "       '216.58.208.142', '216.58.198.22', '74.125.99.59', '54.239.21.68',\n",
       "       '52.222.132.163', '54.213.37.69', '142.250.180.106',\n",
       "       '35.244.247.133', '52.222.132.102', '52.218.176.43',\n",
       "       '142.250.180.162', '52.223.198.17', '52.84.221.60', '99.181.68.57',\n",
       "       '52.84.221.98', '52.84.221.75', '142.250.180.170', '216.58.198.34',\n",
       "       '216.58.200.131', '142.250.180.78', '216.58.205.86',\n",
       "       '151.101.194.167', '199.232.138.214', '52.84.221.22',\n",
       "       '52.222.130.21', '23.160.0.254', '142.250.180.130',\n",
       "       '35.163.54.201', '52.84.221.28', '52.84.221.8', '52.84.221.34',\n",
       "       '52.84.221.64', '63.34.191.216', '45.57.72.140', '45.57.72.136',\n",
       "       '45.57.73.131', '45.57.72.135', '45.57.72.133', '45.57.91.1',\n",
       "       '54.194.235.68', '34.252.28.38', '52.84.221.110', '45.57.73.140',\n",
       "       '45.57.73.138', '34.107.221.82', '45.57.90.1', '52.95.124.221',\n",
       "       '8.238.37.124', '13.226.246.238', '216.58.198.46', '45.57.72.131',\n",
       "       '54.246.79.9', '2.20.157.241', '45.57.73.130', '10.42.0.130'],\n",
       "      dtype=object)"
      ]
     },
     "metadata": {},
     "execution_count": 14
    }
   ],
   "source": [
    "df.dst_ip.unique()"
   ]
  },
  {
   "cell_type": "code",
   "execution_count": 6,
   "metadata": {},
   "outputs": [],
   "source": [
    "df = df[(df['src_ip'] != \"ipv6_1\") & (df['src_ip'] != \"ipv6_2\")]\n",
    "# df = df[(df['dst_ip'] != \"ipv6_3\")], not necessary"
   ]
  },
  {
   "source": [
    "### Create data structure"
   ],
   "cell_type": "markdown",
   "metadata": {}
  },
  {
   "cell_type": "code",
   "execution_count": 7,
   "metadata": {},
   "outputs": [],
   "source": [
    "def check_address(addr):\n",
    "    parts = addr.split(\".\")\n",
    "    # Convert string to int\n",
    "    for i in range(0, len(parts)):\n",
    "        parts[i] = int(parts[i])\n",
    "    \n",
    "    # local address 10.0.0.0 - 10.255.255.255\n",
    "    if parts[0] == 10:\n",
    "        return addr\n",
    "    # local address 172.16.0.0 - 172.31.255.255\n",
    "    elif (parts[0] == 172) and (parts[1] >= 16) and (parts[1] <= 31):\n",
    "        return addr\n",
    "    # local address 192.168.0.0 - 192.168.255.55\n",
    "    elif (parts[0] == 192) and (parts[1] == 168):\n",
    "        return addr\n",
    "    else:\n",
    "        return \"remote\""
   ]
  },
  {
   "cell_type": "code",
   "execution_count": 8,
   "metadata": {},
   "outputs": [
    {
     "output_type": "execute_result",
     "data": {
      "text/plain": [
       "dict_keys(['10.42.0.1', '10.42.0.130', 'remote'])"
      ]
     },
     "metadata": {},
     "execution_count": 8
    }
   ],
   "source": [
    "# Template: {\"src1\":{\"dst1\":[n_bytes, app1, app2], \"dst2\":n_bytes, ...}, \"src2\":...... }\n",
    "# All the remote addresses end up in \"remote\" address (source and destination)\n",
    "\n",
    "sources = {}\n",
    "src_ips = df.src_ip.unique()\n",
    "\n",
    "for i in src_ips:\n",
    "    temp = df[df['src_ip'] == i]\n",
    "    i = check_address(i)\n",
    "    aux_dict = {}\n",
    "\n",
    "    for index, row in temp.iterrows():\n",
    "        dst_ip = check_address(row['dst_ip'])\n",
    "        b_bytes = row['bidirectional_bytes']\n",
    "        app_name = row['application_name']\n",
    "        \n",
    "        try:\n",
    "            pres = aux_dict[dst_ip]\n",
    "            pres[0] += int(b_bytes)\n",
    "            if not app_name in pres:\n",
    "                pres.append(app_name) \n",
    "        except KeyError:\n",
    "            aux_dict[dst_ip] = [int(b_bytes), app_name]\n",
    "            \n",
    "    sources[i] = aux_dict\n",
    "\n",
    "sources.keys()"
   ]
  },
  {
   "cell_type": "code",
   "execution_count": 9,
   "metadata": {},
   "outputs": [
    {
     "output_type": "stream",
     "name": "stdout",
     "text": [
      "10.42.0.1  talk to  remote ,  1206  bytes |  ['MDNS']\n10.42.0.130  talk to  10.42.0.1 ,  119296  bytes |  ['DNS', 'DNS.Amazon', 'DNS.AmazonVideo', 'DNS.Google', 'DNS.YouTube', 'DNS.NetFlix', 'DNS.GoogleServices', 'DNS.Twitch', 'DNS.Microsoft', 'DHCP']\n10.42.0.130  talk to  remote ,  488956708  bytes |  ['TLS.AmazonVideo', 'TLS.Amazon', 'TLS.GoogleServices', 'TLS', 'HTTP', 'HTTP.Amazon', 'TLS.Google', 'QUIC.Google', 'TLS.YouTube', 'HTTP.Google', 'HTTP.Cloudflare', 'TLS.Twitch', 'QUIC.GoogleServices', 'QUIC.YouTube', 'MDNS', 'ICMP.Google', 'TLS.NetFlix']\nremote  talk to  10.42.0.130 ,  858  bytes |  ['TLS.Amazon']\n"
     ]
    }
   ],
   "source": [
    "for i in sources.keys():\n",
    "    for j in sources[i].keys():\n",
    "        print(i, \" talk to \", j, \", \", sources[i][j][0], \" bytes | \", sources[i][j][1:])"
   ]
  },
  {
   "source": [
    "Create and save the graph"
   ],
   "cell_type": "markdown",
   "metadata": {}
  },
  {
   "cell_type": "code",
   "execution_count": 2,
   "metadata": {},
   "outputs": [
    {
     "output_type": "error",
     "ename": "NameError",
     "evalue": "name 'sources' is not defined",
     "traceback": [
      "\u001b[0;31m---------------------------------------------------------------------------\u001b[0m",
      "\u001b[0;31mNameError\u001b[0m                                 Traceback (most recent call last)",
      "\u001b[0;32m<ipython-input-2-0dd620972dc4>\u001b[0m in \u001b[0;36m<module>\u001b[0;34m\u001b[0m\n\u001b[1;32m      2\u001b[0m \u001b[0;34m\u001b[0m\u001b[0m\n\u001b[1;32m      3\u001b[0m \u001b[0mg\u001b[0m\u001b[0;34m=\u001b[0m\u001b[0mnet\u001b[0m\u001b[0;34m.\u001b[0m\u001b[0mNetwork\u001b[0m\u001b[0;34m(\u001b[0m\u001b[0mheight\u001b[0m\u001b[0;34m=\u001b[0m\u001b[0;34m'500px'\u001b[0m\u001b[0;34m,\u001b[0m \u001b[0mwidth\u001b[0m\u001b[0;34m=\u001b[0m\u001b[0;34m'800px'\u001b[0m\u001b[0;34m,\u001b[0m\u001b[0mheading\u001b[0m\u001b[0;34m=\u001b[0m\u001b[0;34m''\u001b[0m\u001b[0;34m)\u001b[0m\u001b[0;34m\u001b[0m\u001b[0;34m\u001b[0m\u001b[0m\n\u001b[0;32m----> 4\u001b[0;31m \u001b[0mg\u001b[0m\u001b[0;34m.\u001b[0m\u001b[0madd_nodes\u001b[0m\u001b[0;34m(\u001b[0m\u001b[0msources\u001b[0m\u001b[0;34m.\u001b[0m\u001b[0mkeys\u001b[0m\u001b[0;34m(\u001b[0m\u001b[0;34m)\u001b[0m\u001b[0;34m)\u001b[0m\u001b[0;34m\u001b[0m\u001b[0;34m\u001b[0m\u001b[0m\n\u001b[0m\u001b[1;32m      5\u001b[0m \u001b[0;34m\u001b[0m\u001b[0m\n\u001b[1;32m      6\u001b[0m \u001b[0;31m# Add edges\u001b[0m\u001b[0;34m\u001b[0m\u001b[0;34m\u001b[0m\u001b[0;34m\u001b[0m\u001b[0m\n",
      "\u001b[0;31mNameError\u001b[0m: name 'sources' is not defined"
     ]
    }
   ],
   "source": [
    "from pyvis import network as net\n",
    "\n",
    "g=net.Network(height='500px', width='800px',heading='')\n",
    "g.add_nodes(sources.keys())\n",
    "\n",
    "# Add edges\n",
    "# First try without weights\n",
    "for i in sources.keys():\n",
    "    elem = sources[i]\n",
    "    g.add_nodes(elem.keys())\n",
    "    for j in elem.keys(): \n",
    "        g.add_edge(i, j)\n",
    "\n",
    "g.save_graph('example.html')"
   ]
  },
  {
   "source": [
    "Export map services"
   ],
   "cell_type": "markdown",
   "metadata": {}
  },
  {
   "cell_type": "code",
   "execution_count": 11,
   "metadata": {},
   "outputs": [],
   "source": [
    "import json\n",
    "\n",
    "with open('export.json', 'w') as fd:\n",
    "    json.dump(sources, fd)\n",
    "\n",
    "# with open('export.json', 'r') as fd:\n",
    "#     x = json.load(fd)\n",
    "# print(x)"
   ]
  }
 ]
}