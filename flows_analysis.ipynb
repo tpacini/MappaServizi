{
 "metadata": {
  "language_info": {
   "codemirror_mode": {
    "name": "ipython",
    "version": 3
   },
   "file_extension": ".py",
   "mimetype": "text/x-python",
   "name": "python",
   "nbconvert_exporter": "python",
   "pygments_lexer": "ipython3",
   "version": "3.8.5"
  },
  "orig_nbformat": 2,
  "kernelspec": {
   "name": "python3",
   "display_name": "Python 3.8.5 64-bit"
  },
  "interpreter": {
   "hash": "916dbcbb3f70747c44a77c7bcd40155683ae19c65e1c03b4aa3499c5328201f1"
  }
 },
 "nbformat": 4,
 "nbformat_minor": 2,
 "cells": [
  {
   "source": [
    "# Cleaning 60min dataset (Netflix, Prime, YouTube and Twitch)\n",
    "\n",
    "10.42.0.1 pc-router, 10.42.0.130 pc-analyzed"
   ],
   "cell_type": "markdown",
   "metadata": {}
  },
  {
   "cell_type": "code",
   "execution_count": 1,
   "metadata": {},
   "outputs": [],
   "source": [
    "import pandas as pd \n",
    "\n",
    "df = pd.read_csv('test1_60min.csv')\n",
    "df.drop([\"Unnamed: 0\", \"src_oui\", \"dst_oui\", \"id\", \"expiration_id\",\"client_fingerprint\", \"server_fingerprint\", \"src_mac\", \"dst_mac\", \"vlan_id\", \"tunnel_id\", \"expiration_id\",\"client_fingerprint\", \"server_fingerprint\", \"user_agent\", \"bidirectional_first_seen_ms\", \"bidirectional_last_seen_ms\", \"bidirectional_duration_ms\", \"dst2src_packets\", \"dst2src_packets\", \"dst2src_first_seen_ms\", \"dst2src_last_seen_ms\", \"dst2src_duration_ms\", \"src2dst_first_seen_ms\", \"src2dst_last_seen_ms\", \"src2dst_duration_ms\", \"src2dst_packets\", \"src2dst_bytes\", \"dst2src_bytes\", \"bidirectional_packets\"], axis=1, inplace=True)\n",
    "df.sort_values([\"src_ip\"], inplace=True)\n",
    "df.reset_index(drop=True, inplace=True)"
   ]
  },
  {
   "source": [
    "IPv6 used for MDNS"
   ],
   "cell_type": "markdown",
   "metadata": {}
  },
  {
   "cell_type": "code",
   "execution_count": 2,
   "metadata": {},
   "outputs": [
    {
     "output_type": "execute_result",
     "data": {
      "text/plain": [
       "                        src_ip  src_port    dst_ip  dst_port  protocol  \\\n",
       "822  fe80::2cd0:25b4:1b3b:5169      5353  ff02::fb      5353        17   \n",
       "823  fe80::2cd0:25b4:1b3b:5169      5353  ff02::fb      5353        17   \n",
       "824  fe80::2cd0:25b4:1b3b:5169      5353  ff02::fb      5353        17   \n",
       "825  fe80::2cd0:25b4:1b3b:5169      5353  ff02::fb      5353        17   \n",
       "826  fe80::2cd0:25b4:1b3b:5169      5353  ff02::fb      5353        17   \n",
       "827  fe80::2cd0:25b4:1b3b:5169      5353  ff02::fb      5353        17   \n",
       "828  fe80::2cd0:25b4:1b3b:5169      5353  ff02::fb      5353        17   \n",
       "829  fe80::2cd0:25b4:1b3b:5169      5353  ff02::fb      5353        17   \n",
       "\n",
       "     ip_version  bidirectional_bytes application_name  \\\n",
       "822           6                  321             MDNS   \n",
       "823           6                  107             MDNS   \n",
       "824           6                  107             MDNS   \n",
       "825           6                  107             MDNS   \n",
       "826           6                  107             MDNS   \n",
       "827           6                  321             MDNS   \n",
       "828           6                  107             MDNS   \n",
       "829           6                  107             MDNS   \n",
       "\n",
       "    application_category_name  application_is_guessed requested_server_name  \\\n",
       "822                   Network                       0      _ipps._tcp.local   \n",
       "823                   Network                       0      _ipps._tcp.local   \n",
       "824                   Network                       0      _ipps._tcp.local   \n",
       "825                   Network                       0      _ipps._tcp.local   \n",
       "826                   Network                       0      _ipps._tcp.local   \n",
       "827                   Network                       0      _ipps._tcp.local   \n",
       "828                   Network                       0      _ipps._tcp.local   \n",
       "829                   Network                       0      _ipps._tcp.local   \n",
       "\n",
       "    content_type  \n",
       "822          NaN  \n",
       "823          NaN  \n",
       "824          NaN  \n",
       "825          NaN  \n",
       "826          NaN  \n",
       "827          NaN  \n",
       "828          NaN  \n",
       "829          NaN  "
      ],
      "text/html": "<div>\n<style scoped>\n    .dataframe tbody tr th:only-of-type {\n        vertical-align: middle;\n    }\n\n    .dataframe tbody tr th {\n        vertical-align: top;\n    }\n\n    .dataframe thead th {\n        text-align: right;\n    }\n</style>\n<table border=\"1\" class=\"dataframe\">\n  <thead>\n    <tr style=\"text-align: right;\">\n      <th></th>\n      <th>src_ip</th>\n      <th>src_port</th>\n      <th>dst_ip</th>\n      <th>dst_port</th>\n      <th>protocol</th>\n      <th>ip_version</th>\n      <th>bidirectional_bytes</th>\n      <th>application_name</th>\n      <th>application_category_name</th>\n      <th>application_is_guessed</th>\n      <th>requested_server_name</th>\n      <th>content_type</th>\n    </tr>\n  </thead>\n  <tbody>\n    <tr>\n      <th>822</th>\n      <td>fe80::2cd0:25b4:1b3b:5169</td>\n      <td>5353</td>\n      <td>ff02::fb</td>\n      <td>5353</td>\n      <td>17</td>\n      <td>6</td>\n      <td>321</td>\n      <td>MDNS</td>\n      <td>Network</td>\n      <td>0</td>\n      <td>_ipps._tcp.local</td>\n      <td>NaN</td>\n    </tr>\n    <tr>\n      <th>823</th>\n      <td>fe80::2cd0:25b4:1b3b:5169</td>\n      <td>5353</td>\n      <td>ff02::fb</td>\n      <td>5353</td>\n      <td>17</td>\n      <td>6</td>\n      <td>107</td>\n      <td>MDNS</td>\n      <td>Network</td>\n      <td>0</td>\n      <td>_ipps._tcp.local</td>\n      <td>NaN</td>\n    </tr>\n    <tr>\n      <th>824</th>\n      <td>fe80::2cd0:25b4:1b3b:5169</td>\n      <td>5353</td>\n      <td>ff02::fb</td>\n      <td>5353</td>\n      <td>17</td>\n      <td>6</td>\n      <td>107</td>\n      <td>MDNS</td>\n      <td>Network</td>\n      <td>0</td>\n      <td>_ipps._tcp.local</td>\n      <td>NaN</td>\n    </tr>\n    <tr>\n      <th>825</th>\n      <td>fe80::2cd0:25b4:1b3b:5169</td>\n      <td>5353</td>\n      <td>ff02::fb</td>\n      <td>5353</td>\n      <td>17</td>\n      <td>6</td>\n      <td>107</td>\n      <td>MDNS</td>\n      <td>Network</td>\n      <td>0</td>\n      <td>_ipps._tcp.local</td>\n      <td>NaN</td>\n    </tr>\n    <tr>\n      <th>826</th>\n      <td>fe80::2cd0:25b4:1b3b:5169</td>\n      <td>5353</td>\n      <td>ff02::fb</td>\n      <td>5353</td>\n      <td>17</td>\n      <td>6</td>\n      <td>107</td>\n      <td>MDNS</td>\n      <td>Network</td>\n      <td>0</td>\n      <td>_ipps._tcp.local</td>\n      <td>NaN</td>\n    </tr>\n    <tr>\n      <th>827</th>\n      <td>fe80::2cd0:25b4:1b3b:5169</td>\n      <td>5353</td>\n      <td>ff02::fb</td>\n      <td>5353</td>\n      <td>17</td>\n      <td>6</td>\n      <td>321</td>\n      <td>MDNS</td>\n      <td>Network</td>\n      <td>0</td>\n      <td>_ipps._tcp.local</td>\n      <td>NaN</td>\n    </tr>\n    <tr>\n      <th>828</th>\n      <td>fe80::2cd0:25b4:1b3b:5169</td>\n      <td>5353</td>\n      <td>ff02::fb</td>\n      <td>5353</td>\n      <td>17</td>\n      <td>6</td>\n      <td>107</td>\n      <td>MDNS</td>\n      <td>Network</td>\n      <td>0</td>\n      <td>_ipps._tcp.local</td>\n      <td>NaN</td>\n    </tr>\n    <tr>\n      <th>829</th>\n      <td>fe80::2cd0:25b4:1b3b:5169</td>\n      <td>5353</td>\n      <td>ff02::fb</td>\n      <td>5353</td>\n      <td>17</td>\n      <td>6</td>\n      <td>107</td>\n      <td>MDNS</td>\n      <td>Network</td>\n      <td>0</td>\n      <td>_ipps._tcp.local</td>\n      <td>NaN</td>\n    </tr>\n  </tbody>\n</table>\n</div>"
     },
     "metadata": {},
     "execution_count": 2
    }
   ],
   "source": [
    "# fe80:0000:0000:2cd0:25b4:1b3b:5169\n",
    "df[df['src_ip'] == \"fe80::2cd0:25b4:1b3b:5169\"]"
   ]
  },
  {
   "cell_type": "code",
   "execution_count": 3,
   "metadata": {},
   "outputs": [
    {
     "output_type": "execute_result",
     "data": {
      "text/plain": [
       "                        src_ip  src_port    dst_ip  dst_port  protocol  \\\n",
       "830  fe80::aba5:3795:c21b:6a98      5353  ff02::fb      5353        17   \n",
       "831  fe80::aba5:3795:c21b:6a98      5353  ff02::fb      5353        17   \n",
       "832  fe80::aba5:3795:c21b:6a98      5353  ff02::fb      5353        17   \n",
       "833  fe80::aba5:3795:c21b:6a98      5353  ff02::fb      5353        17   \n",
       "\n",
       "     ip_version  bidirectional_bytes application_name  \\\n",
       "830           6                  221             MDNS   \n",
       "831           6                  221             MDNS   \n",
       "832           6                  663             MDNS   \n",
       "833           6                  221             MDNS   \n",
       "\n",
       "    application_category_name  application_is_guessed requested_server_name  \\\n",
       "830                   Network                       0       _nfs._tcp.local   \n",
       "831                   Network                       0       _nfs._tcp.local   \n",
       "832                   Network                       0       _nfs._tcp.local   \n",
       "833                   Network                       0       _nfs._tcp.local   \n",
       "\n",
       "    content_type  \n",
       "830          NaN  \n",
       "831          NaN  \n",
       "832          NaN  \n",
       "833          NaN  "
      ],
      "text/html": "<div>\n<style scoped>\n    .dataframe tbody tr th:only-of-type {\n        vertical-align: middle;\n    }\n\n    .dataframe tbody tr th {\n        vertical-align: top;\n    }\n\n    .dataframe thead th {\n        text-align: right;\n    }\n</style>\n<table border=\"1\" class=\"dataframe\">\n  <thead>\n    <tr style=\"text-align: right;\">\n      <th></th>\n      <th>src_ip</th>\n      <th>src_port</th>\n      <th>dst_ip</th>\n      <th>dst_port</th>\n      <th>protocol</th>\n      <th>ip_version</th>\n      <th>bidirectional_bytes</th>\n      <th>application_name</th>\n      <th>application_category_name</th>\n      <th>application_is_guessed</th>\n      <th>requested_server_name</th>\n      <th>content_type</th>\n    </tr>\n  </thead>\n  <tbody>\n    <tr>\n      <th>830</th>\n      <td>fe80::aba5:3795:c21b:6a98</td>\n      <td>5353</td>\n      <td>ff02::fb</td>\n      <td>5353</td>\n      <td>17</td>\n      <td>6</td>\n      <td>221</td>\n      <td>MDNS</td>\n      <td>Network</td>\n      <td>0</td>\n      <td>_nfs._tcp.local</td>\n      <td>NaN</td>\n    </tr>\n    <tr>\n      <th>831</th>\n      <td>fe80::aba5:3795:c21b:6a98</td>\n      <td>5353</td>\n      <td>ff02::fb</td>\n      <td>5353</td>\n      <td>17</td>\n      <td>6</td>\n      <td>221</td>\n      <td>MDNS</td>\n      <td>Network</td>\n      <td>0</td>\n      <td>_nfs._tcp.local</td>\n      <td>NaN</td>\n    </tr>\n    <tr>\n      <th>832</th>\n      <td>fe80::aba5:3795:c21b:6a98</td>\n      <td>5353</td>\n      <td>ff02::fb</td>\n      <td>5353</td>\n      <td>17</td>\n      <td>6</td>\n      <td>663</td>\n      <td>MDNS</td>\n      <td>Network</td>\n      <td>0</td>\n      <td>_nfs._tcp.local</td>\n      <td>NaN</td>\n    </tr>\n    <tr>\n      <th>833</th>\n      <td>fe80::aba5:3795:c21b:6a98</td>\n      <td>5353</td>\n      <td>ff02::fb</td>\n      <td>5353</td>\n      <td>17</td>\n      <td>6</td>\n      <td>221</td>\n      <td>MDNS</td>\n      <td>Network</td>\n      <td>0</td>\n      <td>_nfs._tcp.local</td>\n      <td>NaN</td>\n    </tr>\n  </tbody>\n</table>\n</div>"
     },
     "metadata": {},
     "execution_count": 3
    }
   ],
   "source": [
    "df[df['src_ip'] == \"fe80::aba5:3795:c21b:6a98\"]"
   ]
  },
  {
   "source": [
    "## Create the data structure with the infos\n",
    "\n",
    "Queste celle vanno eseguite con il setup di rete corretto, altrimenti reverse_dns può generare errori"
   ],
   "cell_type": "markdown",
   "metadata": {}
  },
  {
   "cell_type": "code",
   "execution_count": 13,
   "metadata": {},
   "outputs": [
    {
     "output_type": "execute_result",
     "data": {
      "text/plain": [
       "array(['10.42.0.1', '10.42.0.130', '34.252.28.38', '54.213.37.69'],\n",
       "      dtype=object)"
      ]
     },
     "metadata": {},
     "execution_count": 13
    }
   ],
   "source": [
    "# For temporary testing only IPV4 addresses\n",
    "df.src_ip.unique()"
   ]
  },
  {
   "cell_type": "code",
   "execution_count": 14,
   "metadata": {},
   "outputs": [
    {
     "output_type": "execute_result",
     "data": {
      "text/plain": [
       "array(['224.0.0.251', '10.42.0.1', '99.80.110.85', '52.46.155.15',\n",
       "       '108.128.36.17', '216.58.209.42', '52.18.92.59', '95.101.180.169',\n",
       "       '93.184.220.29', '52.84.221.236', '52.222.131.113', '52.84.223.77',\n",
       "       '3.224.160.91', '95.140.230.191', '8.238.124.252', '52.85.15.101',\n",
       "       '216.58.206.78', '142.250.184.110', '216.58.209.46',\n",
       "       '172.217.21.77', '142.250.180.66', '216.58.206.70',\n",
       "       '74.125.153.24', '142.250.180.129', '142.250.180.67',\n",
       "       '142.250.180.99', '216.58.205.67', '216.58.208.174',\n",
       "       '104.18.21.226', '52.222.128.123', '35.165.11.166',\n",
       "       '52.11.130.196', '142.250.180.142', '44.226.254.74',\n",
       "       '151.101.14.167', '54.192.125.217', '216.58.208.130',\n",
       "       '216.58.208.161', '74.125.99.56', '142.250.180.161',\n",
       "       '142.250.180.98', '142.250.184.102', '142.250.180.100',\n",
       "       '216.58.208.142', '216.58.198.22', '74.125.99.59', '54.239.21.68',\n",
       "       '52.222.132.163', '54.213.37.69', '142.250.180.106',\n",
       "       '35.244.247.133', '52.222.132.102', '52.218.176.43',\n",
       "       '142.250.180.162', '52.223.198.17', '52.84.221.60', '99.181.68.57',\n",
       "       '52.84.221.98', '52.84.221.75', '142.250.180.170', '216.58.198.34',\n",
       "       '216.58.200.131', '142.250.180.78', '216.58.205.86',\n",
       "       '151.101.194.167', '199.232.138.214', '52.84.221.22',\n",
       "       '52.222.130.21', '23.160.0.254', '142.250.180.130',\n",
       "       '35.163.54.201', '52.84.221.28', '52.84.221.8', '52.84.221.34',\n",
       "       '52.84.221.64', '63.34.191.216', '45.57.72.140', '45.57.72.136',\n",
       "       '45.57.73.131', '45.57.72.135', '45.57.72.133', '45.57.91.1',\n",
       "       '54.194.235.68', '34.252.28.38', '52.84.221.110', '45.57.73.140',\n",
       "       '45.57.73.138', '34.107.221.82', '45.57.90.1', '52.95.124.221',\n",
       "       '8.238.37.124', '13.226.246.238', '216.58.198.46', '45.57.72.131',\n",
       "       '54.246.79.9', '2.20.157.241', '45.57.73.130', '10.42.0.130'],\n",
       "      dtype=object)"
      ]
     },
     "metadata": {},
     "execution_count": 14
    }
   ],
   "source": [
    "df.dst_ip.unique()"
   ]
  },
  {
   "cell_type": "code",
   "execution_count": 6,
   "metadata": {},
   "outputs": [],
   "source": [
    "df = df[(df['src_ip'] != \"fe80::2cd0:25b4:1b3b:5169\") & (df['src_ip'] != \"fe80::aba5:3795:c21b:6a98\")]\n",
    "df = df[(df['dst_ip'] != \"ff02::fb\")]"
   ]
  },
  {
   "cell_type": "code",
   "execution_count": 7,
   "metadata": {},
   "outputs": [],
   "source": [
    "def check_address(addr):\n",
    "    parts = addr.split(\".\")\n",
    "    # Convert string to int\n",
    "    for i in range(0, len(parts)):\n",
    "        parts[i] = int(parts[i])\n",
    "    \n",
    "    # local address 10.0.0.0 - 10.255.255.255\n",
    "    if parts[0] == 10:\n",
    "        return addr\n",
    "    # local address 172.16.0.0 - 172.31.255.255\n",
    "    elif (parts[0] == 172) and (parts[1] >= 16) and (parts[1] <= 31):\n",
    "        return addr\n",
    "    # local address 192.168.0.0 - 192.168.255.55\n",
    "    elif (parts[0] == 192) and (parts[1] == 168):\n",
    "        return addr\n",
    "    else:\n",
    "        return \"remote\""
   ]
  },
  {
   "cell_type": "code",
   "execution_count": 8,
   "metadata": {},
   "outputs": [
    {
     "output_type": "execute_result",
     "data": {
      "text/plain": [
       "dict_keys(['10.42.0.1', '10.42.0.130', 'remote'])"
      ]
     },
     "metadata": {},
     "execution_count": 8
    }
   ],
   "source": [
    "# Creazione dei nodi del grafo\n",
    "# Template dizionario: {\"src1\":{\"dst1\":[n_bytes, app1, app2], \"dst2\":n_bytes, ...}, \"src2\":...... }\n",
    "# All the remote addresses end up in \"remote\" address (source and destination)\n",
    "\n",
    "sources = {}\n",
    "src_ips = df.src_ip.unique()\n",
    "\n",
    "for i in src_ips:\n",
    "    temp = df[df['src_ip'] == i]\n",
    "    i = check_address(i)\n",
    "    aux_dict = {}\n",
    "\n",
    "    for index, row in temp.iterrows():\n",
    "        dst_ip = check_address(row['dst_ip'])\n",
    "        b_bytes = row['bidirectional_bytes']\n",
    "        app_name = row['application_name']\n",
    "        \n",
    "        try:\n",
    "            pres = aux_dict[dst_ip]\n",
    "            pres[0] += int(b_bytes)\n",
    "            if not app_name in pres:\n",
    "                pres.append(app_name) \n",
    "        except KeyError:\n",
    "            aux_dict[dst_ip] = [int(b_bytes), app_name]\n",
    "            \n",
    "    sources[i] = aux_dict\n",
    "\n",
    "sources.keys()"
   ]
  },
  {
   "cell_type": "code",
   "execution_count": 9,
   "metadata": {},
   "outputs": [
    {
     "output_type": "stream",
     "name": "stdout",
     "text": [
      "10.42.0.1  talk to  remote ,  1206  bytes |  ['MDNS']\n10.42.0.130  talk to  10.42.0.1 ,  119296  bytes |  ['DNS', 'DNS.Amazon', 'DNS.AmazonVideo', 'DNS.Google', 'DNS.YouTube', 'DNS.NetFlix', 'DNS.GoogleServices', 'DNS.Twitch', 'DNS.Microsoft', 'DHCP']\n10.42.0.130  talk to  remote ,  488956708  bytes |  ['TLS.AmazonVideo', 'TLS.Amazon', 'TLS.GoogleServices', 'TLS', 'HTTP', 'HTTP.Amazon', 'TLS.Google', 'QUIC.Google', 'TLS.YouTube', 'HTTP.Google', 'HTTP.Cloudflare', 'TLS.Twitch', 'QUIC.GoogleServices', 'QUIC.YouTube', 'MDNS', 'ICMP.Google', 'TLS.NetFlix']\nremote  talk to  10.42.0.130 ,  858  bytes |  ['TLS.Amazon']\n"
     ]
    }
   ],
   "source": [
    "for i in sources.keys():\n",
    "    for j in sources[i].keys():\n",
    "        print(i, \" talk to \", j, \", \", sources[i][j][0], \" bytes | \", sources[i][j][1:])"
   ]
  },
  {
   "cell_type": "code",
   "execution_count": 23,
   "metadata": {},
   "outputs": [],
   "source": [
    "# Pyvis Version\n",
    "from pyvis import network as net\n",
    "\n",
    "g=net.Network(height='500px', width='800px',heading='')\n",
    "g.add_nodes(sources.keys())\n",
    "\n",
    "# Add edges\n",
    "# First try without weights\n",
    "for i in sources.keys():\n",
    "    elem = sources[i]\n",
    "    g.add_nodes(elem.keys())\n",
    "    for j in elem.keys(): \n",
    "        g.add_edge(i, j)\n",
    "\n",
    "g.show('example.html')"
   ]
  },
  {
   "cell_type": "code",
   "execution_count": 11,
   "metadata": {},
   "outputs": [],
   "source": [
    "import json\n",
    "\n",
    "with open('export.json', 'w') as fd:\n",
    "    json.dump(sources, fd)\n",
    "\n",
    "# with open('export.json', 'r') as fd:\n",
    "#     x = json.load(fd)\n",
    "\n",
    "# print(x)"
   ]
  },
  {
   "source": [
    "# OLD PART"
   ],
   "cell_type": "markdown",
   "metadata": {}
  },
  {
   "cell_type": "code",
   "execution_count": 2,
   "metadata": {},
   "outputs": [],
   "source": [
    "# Take into account only the analyzed device ip as source ip (it will be necessary to apply the same filter also in the code to exclude flows that have different source ip)\n",
    "filt_df = df[(df['src_ip']==\"10.42.0.130\")]"
   ]
  },
  {
   "cell_type": "code",
   "execution_count": 3,
   "metadata": {},
   "outputs": [
    {
     "output_type": "execute_result",
     "data": {
      "text/plain": [
       "array(['DNS', 'DNS.Amazon', 'TLS.AmazonVideo', 'TLS.Amazon',\n",
       "       'DNS.AmazonVideo', 'TLS.GoogleServices', 'TLS', 'HTTP',\n",
       "       'HTTP.Amazon', 'TLS.Google', 'DNS.Google', 'DNS.YouTube',\n",
       "       'QUIC.Google', 'TLS.YouTube', 'HTTP.Google', 'DNS.NetFlix',\n",
       "       'DNS.GoogleServices', 'HTTP.Cloudflare', 'DNS.Twitch',\n",
       "       'TLS.Twitch', 'QUIC.GoogleServices', 'QUIC.YouTube', 'MDNS',\n",
       "       'ICMP.Google', 'DNS.Microsoft', 'TLS.NetFlix', 'DHCP'],\n",
       "      dtype=object)"
      ]
     },
     "metadata": {},
     "execution_count": 3
    }
   ],
   "source": [
    "filt_df['application_name'].unique()"
   ]
  },
  {
   "cell_type": "code",
   "execution_count": 4,
   "metadata": {},
   "outputs": [
    {
     "output_type": "stream",
     "name": "stdout",
     "text": [
      "Before: 834 After: 814\n"
     ]
    },
    {
     "output_type": "execute_result",
     "data": {
      "text/plain": [
       "        src_ip  src_port     dst_ip  dst_port  protocol  ip_version  \\\n",
       "4  10.42.0.130     56195  10.42.0.1        53        17           4   \n",
       "5  10.42.0.130     40003  10.42.0.1        53        17           4   \n",
       "6  10.42.0.130     46309  10.42.0.1        53        17           4   \n",
       "7  10.42.0.130     58422  10.42.0.1        53        17           4   \n",
       "8  10.42.0.130     44992  10.42.0.1        53        17           4   \n",
       "\n",
       "   bidirectional_bytes application_name application_category_name  \\\n",
       "4                  313              DNS         ConnectivityCheck   \n",
       "5                  222              DNS                   Network   \n",
       "6                  245       DNS.Amazon                       Web   \n",
       "7                  197       DNS.Amazon                       Web   \n",
       "8                  222              DNS                   Network   \n",
       "\n",
       "   application_is_guessed                     requested_server_name  \\\n",
       "4                       0                  detectportal.firefox.com   \n",
       "5                       0  endpoint.prod.eu-west-1.forester.a2z.com   \n",
       "6                       0                          unagi.amazon.com   \n",
       "7                       0                          unagi.amazon.com   \n",
       "8                       0  endpoint.prod.eu-west-1.forester.a2z.com   \n",
       "\n",
       "  content_type  \n",
       "4          NaN  \n",
       "5          NaN  \n",
       "6          NaN  \n",
       "7          NaN  \n",
       "8          NaN  "
      ],
      "text/html": "<div>\n<style scoped>\n    .dataframe tbody tr th:only-of-type {\n        vertical-align: middle;\n    }\n\n    .dataframe tbody tr th {\n        vertical-align: top;\n    }\n\n    .dataframe thead th {\n        text-align: right;\n    }\n</style>\n<table border=\"1\" class=\"dataframe\">\n  <thead>\n    <tr style=\"text-align: right;\">\n      <th></th>\n      <th>src_ip</th>\n      <th>src_port</th>\n      <th>dst_ip</th>\n      <th>dst_port</th>\n      <th>protocol</th>\n      <th>ip_version</th>\n      <th>bidirectional_bytes</th>\n      <th>application_name</th>\n      <th>application_category_name</th>\n      <th>application_is_guessed</th>\n      <th>requested_server_name</th>\n      <th>content_type</th>\n    </tr>\n  </thead>\n  <tbody>\n    <tr>\n      <th>4</th>\n      <td>10.42.0.130</td>\n      <td>56195</td>\n      <td>10.42.0.1</td>\n      <td>53</td>\n      <td>17</td>\n      <td>4</td>\n      <td>313</td>\n      <td>DNS</td>\n      <td>ConnectivityCheck</td>\n      <td>0</td>\n      <td>detectportal.firefox.com</td>\n      <td>NaN</td>\n    </tr>\n    <tr>\n      <th>5</th>\n      <td>10.42.0.130</td>\n      <td>40003</td>\n      <td>10.42.0.1</td>\n      <td>53</td>\n      <td>17</td>\n      <td>4</td>\n      <td>222</td>\n      <td>DNS</td>\n      <td>Network</td>\n      <td>0</td>\n      <td>endpoint.prod.eu-west-1.forester.a2z.com</td>\n      <td>NaN</td>\n    </tr>\n    <tr>\n      <th>6</th>\n      <td>10.42.0.130</td>\n      <td>46309</td>\n      <td>10.42.0.1</td>\n      <td>53</td>\n      <td>17</td>\n      <td>4</td>\n      <td>245</td>\n      <td>DNS.Amazon</td>\n      <td>Web</td>\n      <td>0</td>\n      <td>unagi.amazon.com</td>\n      <td>NaN</td>\n    </tr>\n    <tr>\n      <th>7</th>\n      <td>10.42.0.130</td>\n      <td>58422</td>\n      <td>10.42.0.1</td>\n      <td>53</td>\n      <td>17</td>\n      <td>4</td>\n      <td>197</td>\n      <td>DNS.Amazon</td>\n      <td>Web</td>\n      <td>0</td>\n      <td>unagi.amazon.com</td>\n      <td>NaN</td>\n    </tr>\n    <tr>\n      <th>8</th>\n      <td>10.42.0.130</td>\n      <td>44992</td>\n      <td>10.42.0.1</td>\n      <td>53</td>\n      <td>17</td>\n      <td>4</td>\n      <td>222</td>\n      <td>DNS</td>\n      <td>Network</td>\n      <td>0</td>\n      <td>endpoint.prod.eu-west-1.forester.a2z.com</td>\n      <td>NaN</td>\n    </tr>\n  </tbody>\n</table>\n</div>"
     },
     "metadata": {},
     "execution_count": 4
    }
   ],
   "source": [
    "print(\"Before: {} After: {}\".format(len(df), len(filt_df)))\n",
    "filt_df.head()"
   ]
  },
  {
   "source": [
    "## Saving the list of application name in a JSON file"
   ],
   "cell_type": "markdown",
   "metadata": {}
  },
  {
   "cell_type": "code",
   "execution_count": 6,
   "metadata": {},
   "outputs": [],
   "source": [
    "import json\n",
    "\n",
    "apps = filt_df.application_name.unique()\n",
    "\n",
    "with open('export_apps.json', 'w') as fd:\n",
    "    json.dump(list(apps), fd)"
   ]
  },
  {
   "cell_type": "code",
   "execution_count": 7,
   "metadata": {},
   "outputs": [
    {
     "output_type": "stream",
     "name": "stdout",
     "text": [
      "DNS\n"
     ]
    }
   ],
   "source": [
    "# Debug\n",
    "\n",
    "with open('export_apps.json', 'r') as fd:\n",
    "    x = json.load(fd)\n",
    "    \n",
    "print(x[0])"
   ]
  }
 ]
}